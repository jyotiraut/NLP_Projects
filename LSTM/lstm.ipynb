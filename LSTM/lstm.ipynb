{
 "cells": [
  {
   "cell_type": "code",
   "execution_count": 11,
   "id": "ec882ca1",
   "metadata": {},
   "outputs": [],
   "source": [
    "import nltk\n",
    "import pandas as pd\n",
    "from tensorflow.keras.preprocessing.text import Tokenizer\n",
    "from tensorflow.keras.preprocessing.sequence import pad_sequences\n",
    "from tensorflow.keras.models import Sequential\n",
    "from tensorflow.keras.layers import Embedding, LSTM, Dense, Dropout, Bidirectional\n",
    "from sklearn.model_selection import train_test_split\n",
    "from tensorflow.keras.callbacks import EarlyStopping\n",
    "import matplotlib.pyplot as plt\n",
    "import seaborn as sns\n",
    "from sklearn.metrics import confusion_matrix"
   ]
  },
  {
   "cell_type": "markdown",
   "id": "7eb724b6",
   "metadata": {},
   "source": [
    "Data Loading and Preprocessing"
   ]
  },
  {
   "cell_type": "code",
   "execution_count": 2,
   "id": "7a8cea87",
   "metadata": {},
   "outputs": [],
   "source": [
    "# Load your clean data\n",
    "df = pd.read_csv('../data/clean/clean_data.csv')"
   ]
  },
  {
   "cell_type": "code",
   "execution_count": 3,
   "id": "818a1419",
   "metadata": {},
   "outputs": [
    {
     "data": {
      "text/html": [
       "<div>\n",
       "<style scoped>\n",
       "    .dataframe tbody tr th:only-of-type {\n",
       "        vertical-align: middle;\n",
       "    }\n",
       "\n",
       "    .dataframe tbody tr th {\n",
       "        vertical-align: top;\n",
       "    }\n",
       "\n",
       "    .dataframe thead th {\n",
       "        text-align: right;\n",
       "    }\n",
       "</style>\n",
       "<table border=\"1\" class=\"dataframe\">\n",
       "  <thead>\n",
       "    <tr style=\"text-align: right;\">\n",
       "      <th></th>\n",
       "      <th>ProductId</th>\n",
       "      <th>Rating</th>\n",
       "      <th>Summary</th>\n",
       "      <th>Text</th>\n",
       "      <th>Review</th>\n",
       "      <th>processed_text</th>\n",
       "    </tr>\n",
       "  </thead>\n",
       "  <tbody>\n",
       "    <tr>\n",
       "      <th>0</th>\n",
       "      <td>B0088YBUOU</td>\n",
       "      <td>2</td>\n",
       "      <td>I like these!</td>\n",
       "      <td>These are actually very tasty.  Pure potatoes ...</td>\n",
       "      <td>I like these!. These are actually very tasty. ...</td>\n",
       "      <td>like actually tasty pure potato great texture ...</td>\n",
       "    </tr>\n",
       "    <tr>\n",
       "      <th>1</th>\n",
       "      <td>B000Q75354</td>\n",
       "      <td>2</td>\n",
       "      <td>Good but subjectively not 5 star</td>\n",
       "      <td>I realize that taste is a matter of personal p...</td>\n",
       "      <td>Good but subjectively not 5 star. I realize th...</td>\n",
       "      <td>good subjectively star realize taste matter pe...</td>\n",
       "    </tr>\n",
       "  </tbody>\n",
       "</table>\n",
       "</div>"
      ],
      "text/plain": [
       "    ProductId  Rating                           Summary  \\\n",
       "0  B0088YBUOU       2                     I like these!   \n",
       "1  B000Q75354       2  Good but subjectively not 5 star   \n",
       "\n",
       "                                                Text  \\\n",
       "0  These are actually very tasty.  Pure potatoes ...   \n",
       "1  I realize that taste is a matter of personal p...   \n",
       "\n",
       "                                              Review  \\\n",
       "0  I like these!. These are actually very tasty. ...   \n",
       "1  Good but subjectively not 5 star. I realize th...   \n",
       "\n",
       "                                      processed_text  \n",
       "0  like actually tasty pure potato great texture ...  \n",
       "1  good subjectively star realize taste matter pe...  "
      ]
     },
     "execution_count": 3,
     "metadata": {},
     "output_type": "execute_result"
    }
   ],
   "source": [
    "df.head(2)"
   ]
  },
  {
   "cell_type": "code",
   "execution_count": 4,
   "id": "d8667be5",
   "metadata": {},
   "outputs": [
    {
     "data": {
      "text/plain": [
       "['../models/lstm_tokenizer.pkl']"
      ]
     },
     "execution_count": 4,
     "metadata": {},
     "output_type": "execute_result"
    }
   ],
   "source": [
    "\n",
    "# Preprocessing specifically for LSTM\n",
    "def preprocess_for_lstm(texts):\n",
    "    \n",
    "    return texts\n",
    "\n",
    "# Prepare sequences\n",
    "max_features = 5000  # Top words to consider\n",
    "max_len = 200  # Max sequence length\n",
    "\n",
    "tokenizer = Tokenizer(num_words=max_features)\n",
    "tokenizer.fit_on_texts(df['processed_text'])\n",
    "sequences = tokenizer.texts_to_sequences(df['processed_text'])\n",
    "X = pad_sequences(sequences, maxlen=max_len)\n",
    "y = df['Rating']  #sentiment labels\n",
    "\n",
    "# Save tokenizer for later use\n",
    "import joblib\n",
    "joblib.dump(tokenizer, '../models/lstm_tokenizer.pkl')\n"
   ]
  },
  {
   "cell_type": "markdown",
   "id": "a80c9ef6",
   "metadata": {},
   "source": [
    "Build the Model"
   ]
  },
  {
   "cell_type": "code",
   "execution_count": 6,
   "id": "997aa7f4",
   "metadata": {},
   "outputs": [
    {
     "name": "stderr",
     "output_type": "stream",
     "text": [
      "c:\\Users\\acer\\AppData\\Local\\Programs\\Python\\Python311\\Lib\\site-packages\\keras\\src\\layers\\core\\embedding.py:90: UserWarning: Argument `input_length` is deprecated. Just remove it.\n",
      "  warnings.warn(\n"
     ]
    }
   ],
   "source": [
    "# Build LSTM model\n",
    "def build_lstm_model(vocab_size, embedding_dim=128, lstm_units=64):\n",
    "    model = Sequential()\n",
    "    model.add(Embedding(vocab_size, embedding_dim, input_length=max_len))\n",
    "    model.add(Bidirectional(LSTM(lstm_units, dropout=0.2, recurrent_dropout=0.2)))\n",
    "    model.add(Dense(64, activation='relu'))\n",
    "    model.add(Dropout(0.5))\n",
    "    model.add(Dense(3, activation='softmax'))  # 3 classes: Negative, Neutral, Positive\n",
    "    \n",
    "    model.compile(loss='sparse_categorical_crossentropy',\n",
    "                  optimizer='adam',\n",
    "                  metrics=['accuracy'])\n",
    "    return model\n",
    "\n",
    "# Get vocabulary size\n",
    "vocab_size = min(max_features, len(tokenizer.word_index) + 1)\n",
    "\n",
    "# Create and train model\n",
    "model = build_lstm_model(vocab_size)\n"
   ]
  },
  {
   "cell_type": "markdown",
   "id": "b57a0ad8",
   "metadata": {},
   "source": [
    "Train and evaluate "
   ]
  },
  {
   "cell_type": "code",
   "execution_count": null,
   "id": "343f3bde",
   "metadata": {},
   "outputs": [
    {
     "name": "stdout",
     "output_type": "stream",
     "text": [
      "Epoch 1/10\n",
      "\u001b[1m57/57\u001b[0m \u001b[32m━━━━━━━━━━━━━━━━━━━━\u001b[0m\u001b[37m\u001b[0m \u001b[1m16s\u001b[0m 175ms/step - accuracy: 0.7393 - loss: 0.8078 - val_accuracy: 0.7750 - val_loss: 0.6515\n",
      "Epoch 2/10\n",
      "\u001b[1m57/57\u001b[0m \u001b[32m━━━━━━━━━━━━━━━━━━━━\u001b[0m\u001b[37m\u001b[0m \u001b[1m15s\u001b[0m 270ms/step - accuracy: 0.8007 - loss: 0.5739 - val_accuracy: 0.8125 - val_loss: 0.5486\n",
      "Epoch 3/10\n",
      "\u001b[1m57/57\u001b[0m \u001b[32m━━━━━━━━━━━━━━━━━━━━\u001b[0m\u001b[37m\u001b[0m \u001b[1m8s\u001b[0m 144ms/step - accuracy: 0.8888 - loss: 0.3237 - val_accuracy: 0.8175 - val_loss: 0.5954\n",
      "Epoch 4/10\n",
      "\u001b[1m57/57\u001b[0m \u001b[32m━━━━━━━━━━━━━━━━━━━━\u001b[0m\u001b[37m\u001b[0m \u001b[1m8s\u001b[0m 148ms/step - accuracy: 0.9142 - loss: 0.2523 - val_accuracy: 0.8275 - val_loss: 0.6311\n",
      "Epoch 5/10\n",
      "\u001b[1m57/57\u001b[0m \u001b[32m━━━━━━━━━━━━━━━━━━━━\u001b[0m\u001b[37m\u001b[0m \u001b[1m10s\u001b[0m 170ms/step - accuracy: 0.9238 - loss: 0.1976 - val_accuracy: 0.8225 - val_loss: 0.6868\n",
      "\u001b[1m32/32\u001b[0m \u001b[32m━━━━━━━━━━━━━━━━━━━━\u001b[0m\u001b[37m\u001b[0m \u001b[1m1s\u001b[0m 37ms/step - accuracy: 0.7959 - loss: 0.8157\n"
     ]
    },
    {
     "name": "stderr",
     "output_type": "stream",
     "text": [
      "WARNING:absl:You are saving your model as an HDF5 file via `model.save()` or `keras.saving.save_model(model)`. This file format is considered legacy. We recommend using instead the native Keras format, e.g. `model.save('my_model.keras')` or `keras.saving.save_model(model, 'my_model.keras')`. \n"
     ]
    },
    {
     "name": "stdout",
     "output_type": "stream",
     "text": [
      "Test Accuracy: 0.8050\n"
     ]
    }
   ],
   "source": [
    "\n",
    "\n",
    "# Split data\n",
    "X_train, X_test, y_train, y_test = train_test_split(X, y, test_size=0.2, random_state=42)\n",
    "\n",
    "# Train with early stopping\n",
    "early_stopping = EarlyStopping(monitor='val_loss', patience=3)\n",
    "history = model.fit(\n",
    "    X_train, y_train,\n",
    "    epochs=10,\n",
    "    batch_size=64,\n",
    "    validation_split=0.1,\n",
    "    callbacks=[early_stopping]\n",
    ")\n",
    "\n",
    "# Evaluate\n",
    "results = model.evaluate(X_test, y_test)\n",
    "print(f\"Test Accuracy: {results[1]:.4f}\")\n",
    "\n",
    "# Save model\n",
    "model.save('../models/lstm_sentiment_model.h5')\n"
   ]
  },
  {
   "cell_type": "markdown",
   "id": "d36b67fc",
   "metadata": {},
   "source": [
    "Visualize \n"
   ]
  },
  {
   "cell_type": "code",
   "execution_count": 12,
   "id": "70d4f17f",
   "metadata": {},
   "outputs": [
    {
     "name": "stdout",
     "output_type": "stream",
     "text": [
      "\u001b[1m32/32\u001b[0m \u001b[32m━━━━━━━━━━━━━━━━━━━━\u001b[0m\u001b[37m\u001b[0m \u001b[1m2s\u001b[0m 44ms/step\n"
     ]
    },
    {
     "data": {
      "image/png": "[encoded data removed]",
      "text/plain": [
       "<Figure size 1200x400 with 3 Axes>"
      ]
     },
     "metadata": {},
     "output_type": "display_data"
    }
   ],
   "source": [
    "# Plot training history\n",
    "plt.figure(figsize=(12, 4))\n",
    "plt.subplot(1, 2, 1)\n",
    "plt.plot(history.history['accuracy'])\n",
    "plt.plot(history.history['val_accuracy'])\n",
    "plt.title('Model Accuracy')\n",
    "plt.ylabel('Accuracy')\n",
    "plt.xlabel('Epoch')\n",
    "plt.legend(['Train', 'Validation'], loc='lower right')\n",
    "\n",
    "# Confusion matrix\n",
    "y_pred = model.predict(X_test).argmax(axis=1)\n",
    "cm = confusion_matrix(y_test, y_pred)\n",
    "plt.subplot(1, 2, 2)\n",
    "sns.heatmap(cm, annot=True, fmt='d', cmap='Blues')\n",
    "plt.title('LSTM Confusion Matrix')\n",
    "plt.xlabel('Predicted')\n",
    "plt.ylabel('True')\n",
    "plt.tight_layout()\n",
    "plt.show()\n"
   ]
  },
  {
   "cell_type": "code",
   "execution_count": 13,
   "id": "47722d02",
   "metadata": {},
   "outputs": [
    {
     "name": "stdout",
     "output_type": "stream",
     "text": [
      "\u001b[1m1/1\u001b[0m \u001b[32m━━━━━━━━━━━━━━━━━━━━\u001b[0m\u001b[37m\u001b[0m \u001b[1m0s\u001b[0m 78ms/step\n",
      "Text: This product is amazing, I love it!\n",
      "Sentiment: Positive (Confidence: 0.90)\n",
      "\n",
      "\u001b[1m1/1\u001b[0m \u001b[32m━━━━━━━━━━━━━━━━━━━━\u001b[0m\u001b[37m\u001b[0m \u001b[1m0s\u001b[0m 55ms/step\n",
      "Text: The quality is terrible, don't waste your money.\n",
      "Sentiment: Negative (Confidence: 0.84)\n",
      "\n",
      "\u001b[1m1/1\u001b[0m \u001b[32m━━━━━━━━━━━━━━━━━━━━\u001b[0m\u001b[37m\u001b[0m \u001b[1m0s\u001b[0m 79ms/step\n",
      "Text: It's okay, nothing special but not bad either.\n",
      "Sentiment: Negative (Confidence: 0.85)\n",
      "\n"
     ]
    }
   ],
   "source": [
    "def predict_sentiment(text, tokenizer, model):\n",
    "    # Preprocess\n",
    "    sequence = tokenizer.texts_to_sequences([text])\n",
    "    padded = pad_sequences(sequence, maxlen=max_len)\n",
    "    \n",
    "    # Predict\n",
    "    prediction = model.predict(padded)[0]\n",
    "    predicted_class = prediction.argmax()\n",
    "    \n",
    "    # Map to sentiment\n",
    "    sentiment_map = {0: \"Negative\", 1: \"Neutral\", 2: \"Positive\"}\n",
    "    return sentiment_map[predicted_class], prediction[predicted_class]\n",
    "\n",
    "# Test with sample reviews\n",
    "samples = [\n",
    "    \"This product is amazing, I love it!\",\n",
    "    \"The quality is terrible, don't waste your money.\",\n",
    "    \"It's okay, nothing special but not bad either.\"\n",
    "]\n",
    "\n",
    "for sample in samples:\n",
    "    sentiment, confidence = predict_sentiment(sample, tokenizer, model)\n",
    "    print(f\"Text: {sample}\")\n",
    "    print(f\"Sentiment: {sentiment} (Confidence: {confidence:.2f})\\n\")\n"
   ]
  }
 ],
 "metadata": {
  "kernelspec": {
   "display_name": "Python 3",
   "language": "python",
   "name": "python3"
  },
  "language_info": {
   "codemirror_mode": {
    "name": "ipython",
    "version": 3
   },
   "file_extension": ".py",
   "mimetype": "text/x-python",
   "name": "python",
   "nbconvert_exporter": "python",
   "pygments_lexer": "ipython3",
   "version": "3.11.2"
  }
 },
 "nbformat": 4,
 "nbformat_minor": 5
}
