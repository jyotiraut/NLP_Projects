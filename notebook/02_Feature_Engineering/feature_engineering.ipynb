{
 "cells": [
  {
   "cell_type": "code",
   "execution_count": 1,
   "id": "6e28caa4",
   "metadata": {},
   "outputs": [
    {
     "name": "stderr",
     "output_type": "stream",
     "text": [
      "[nltk_data] Downloading package vader_lexicon to\n",
      "[nltk_data]     C:\\Users\\acer\\AppData\\Roaming\\nltk_data...\n",
      "[nltk_data]   Package vader_lexicon is already up-to-date!\n"
     ]
    }
   ],
   "source": [
    "import pandas as pd \n",
    "from sklearn.feature_extraction.text import CountVectorizer\n",
    "from sklearn.feature_extraction.text import TfidfVectorizer\n",
    "from nltk.sentiment import SentimentIntensityAnalyzer\n",
    "import nltk\n",
    "nltk.download('vader_lexicon')\n",
    "import numpy as np\n",
    "from scipy.sparse import hstack"
   ]
  },
  {
   "cell_type": "code",
   "execution_count": 2,
   "id": "4c55d77e",
   "metadata": {},
   "outputs": [],
   "source": [
    "# Load cleaned and preprocessed data (e.g., from previous steps)\n",
    "df = pd.read_csv('../../data/clean/clean_data.csv')"
   ]
  },
  {
   "cell_type": "code",
   "execution_count": 3,
   "id": "0a6d3f42",
   "metadata": {},
   "outputs": [
    {
     "name": "stdout",
     "output_type": "stream",
     "text": [
      "   ab  abdomin  abil  abl  about  aboutbr  abov  abr  absolut  absorb  ...  \\\n",
      "0   0        0     0    0      0        0     0    0        0       0  ...   \n",
      "1   0        0     0    0      0        0     0    0        0       0  ...   \n",
      "2   0        0     0    0      0        0     0    0        0       0  ...   \n",
      "3   0        0     0    0      0        0     0    0        0       0  ...   \n",
      "4   0        0     0    0      0        0     0    0        0       0  ...   \n",
      "\n",
      "   zinc  zing  zinger  zip  ziploc  ziplock  ziwipeak  zoe  zone  zuke  \n",
      "0     0     0       0    0       0        0         0    0     0     0  \n",
      "1     0     0       0    0       0        0         0    0     0     0  \n",
      "2     0     0       0    0       0        0         0    0     0     0  \n",
      "3     0     0       0    0       0        0         0    0     0     0  \n",
      "4     0     0       0    0       0        0         0    0     0     0  \n",
      "\n",
      "[5 rows x 5000 columns]\n"
     ]
    }
   ],
   "source": [
    "# Initialize CountVectorizer\n",
    "count_vect = CountVectorizer(max_features=5000)\n",
    "bow_features = count_vect.fit_transform(df['processed_text'])\n",
    "\n",
    "# Optional: Convert to DataFrame for inspection\n",
    "bow_df = pd.DataFrame(bow_features.toarray(), columns=count_vect.get_feature_names_out())\n",
    "print(bow_df.head())"
   ]
  },
  {
   "cell_type": "code",
   "execution_count": 4,
   "id": "183231eb",
   "metadata": {},
   "outputs": [
    {
     "name": "stdout",
     "output_type": "stream",
     "text": [
      "    ab  abdomin  abil  abl  about  aboutbr  abov  abr  absolut  absorb  ...  \\\n",
      "0  0.0      0.0   0.0  0.0    0.0      0.0   0.0  0.0      0.0     0.0  ...   \n",
      "1  0.0      0.0   0.0  0.0    0.0      0.0   0.0  0.0      0.0     0.0  ...   \n",
      "2  0.0      0.0   0.0  0.0    0.0      0.0   0.0  0.0      0.0     0.0  ...   \n",
      "3  0.0      0.0   0.0  0.0    0.0      0.0   0.0  0.0      0.0     0.0  ...   \n",
      "4  0.0      0.0   0.0  0.0    0.0      0.0   0.0  0.0      0.0     0.0  ...   \n",
      "\n",
      "   zinc  zing  zinger  zip  ziploc  ziplock  ziwipeak  zoe  zone  zuke  \n",
      "0   0.0   0.0     0.0  0.0     0.0      0.0       0.0  0.0   0.0   0.0  \n",
      "1   0.0   0.0     0.0  0.0     0.0      0.0       0.0  0.0   0.0   0.0  \n",
      "2   0.0   0.0     0.0  0.0     0.0      0.0       0.0  0.0   0.0   0.0  \n",
      "3   0.0   0.0     0.0  0.0     0.0      0.0       0.0  0.0   0.0   0.0  \n",
      "4   0.0   0.0     0.0  0.0     0.0      0.0       0.0  0.0   0.0   0.0  \n",
      "\n",
      "[5 rows x 5000 columns]\n"
     ]
    }
   ],
   "source": [
    "\n",
    "\n",
    "# Initialize TF-IDF Vectorizer\n",
    "tfidf_vect = TfidfVectorizer(max_features=5000)\n",
    "tfidf_features = tfidf_vect.fit_transform(df['processed_text'])\n",
    "\n",
    "# Optional: Convert to DataFrame for inspection\n",
    "tfidf_df = pd.DataFrame(tfidf_features.toarray(), columns=tfidf_vect.get_feature_names_out())\n",
    "print(tfidf_df.head())\n"
   ]
  },
  {
   "cell_type": "code",
   "execution_count": 5,
   "id": "d833dbb8",
   "metadata": {},
   "outputs": [],
   "source": [
    "# Add a feature for the length of each review (number of words)\n",
    "df['review_length'] = df['processed_text'].apply(lambda x: len(x.split()))\n"
   ]
  },
  {
   "cell_type": "code",
   "execution_count": 6,
   "id": "c0b5f420",
   "metadata": {},
   "outputs": [],
   "source": [
    "#Using Lexicon \n",
    "\n",
    "sia = SentimentIntensityAnalyzer()\n",
    "df['vader_compound'] = df['processed_text'].apply(lambda x: sia.polarity_scores(x)['compound'])\n"
   ]
  },
  {
   "cell_type": "code",
   "execution_count": 7,
   "id": "37b276b4",
   "metadata": {},
   "outputs": [],
   "source": [
    "\n",
    "\n",
    "# Combine TF-IDF features and review length (as an example)\n",
    "X = hstack([tfidf_features, np.array(df['review_length']).reshape(-1, 1)])\n",
    "\n",
    "# If you want to add the VADER score as well:\n",
    "X = hstack([tfidf_features, \n",
    "            np.array(df['review_length']).reshape(-1, 1), \n",
    "            np.array(df['vader_compound']).reshape(-1, 1)])\n"
   ]
  },
  {
   "cell_type": "code",
   "execution_count": 8,
   "id": "7c5c12ff",
   "metadata": {},
   "outputs": [],
   "source": [
    "import os\n",
    "os.makedirs('features/processed', exist_ok=True)\n",
    "# Save the TF-IDF features (as an example)\n",
    "pd.DataFrame(X.toarray()).to_csv('features/processed/engineered_features.csv', index=False)\n"
   ]
  }
 ],
 "metadata": {
  "kernelspec": {
   "display_name": "Python 3",
   "language": "python",
   "name": "python3"
  },
  "language_info": {
   "codemirror_mode": {
    "name": "ipython",
    "version": 3
   },
   "file_extension": ".py",
   "mimetype": "text/x-python",
   "name": "python",
   "nbconvert_exporter": "python",
   "pygments_lexer": "ipython3",
   "version": "3.11.2"
  }
 },
 "nbformat": 4,
 "nbformat_minor": 5
}
